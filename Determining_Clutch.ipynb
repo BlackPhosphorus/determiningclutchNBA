{
  "nbformat": 4,
  "nbformat_minor": 0,
  "metadata": {
    "colab": {
      "provenance": [],
      "gpuType": "V28",
      "include_colab_link": true
    },
    "kernelspec": {
      "name": "python3",
      "display_name": "Python 3"
    },
    "language_info": {
      "name": "python"
    },
    "accelerator": "TPU"
  },
  "cells": [
    {
      "cell_type": "markdown",
      "metadata": {
        "id": "view-in-github",
        "colab_type": "text"
      },
      "source": [
        "<a href=\"https://colab.research.google.com/github/BlackPhosphorus/determiningclutchNBA/blob/main/Determining_Clutch.ipynb\" target=\"_parent\"><img src=\"https://colab.research.google.com/assets/colab-badge.svg\" alt=\"Open In Colab\"/></a>"
      ]
    },
    {
      "cell_type": "code",
      "execution_count": null,
      "metadata": {
        "id": "iDNf4wZnkNmn"
      },
      "outputs": [],
      "source": [
        "#https://www.kaggle.com/datasets/szymonjwiak/nba-play-by-play-data-1997-2023"
      ]
    },
    {
      "cell_type": "code",
      "source": [
        "import pandas as pd\n",
        "from sklearn.ensemble import IsolationForest\n",
        "import matplotlib.pyplot as plt\n",
        "import seaborn as sns\n",
        "from google.colab import files\n",
        "uploaded = files.upload()"
      ],
      "metadata": {
        "colab": {
          "base_uri": "https://localhost:8080/",
          "height": 55
        },
        "id": "o6Ow0LvficUp",
        "outputId": "0efdc65e-5f4b-4796-c4a7-ba0ca2543d29"
      },
      "execution_count": null,
      "outputs": [
        {
          "output_type": "display_data",
          "data": {
            "text/plain": [
              "<IPython.core.display.HTML object>"
            ],
            "text/html": [
              "\n",
              "     <input type=\"file\" id=\"files-8f88732a-d02b-4995-ba36-8db5286955e5\" name=\"files[]\" multiple disabled\n",
              "        style=\"border:none\" />\n",
              "     <output id=\"result-8f88732a-d02b-4995-ba36-8db5286955e5\">\n",
              "      Upload widget is only available when the cell has been executed in the\n",
              "      current browser session. Please rerun this cell to enable.\n",
              "      </output>\n",
              "      <script>// Copyright 2017 Google LLC\n",
              "//\n",
              "// Licensed under the Apache License, Version 2.0 (the \"License\");\n",
              "// you may not use this file except in compliance with the License.\n",
              "// You may obtain a copy of the License at\n",
              "//\n",
              "//      http://www.apache.org/licenses/LICENSE-2.0\n",
              "//\n",
              "// Unless required by applicable law or agreed to in writing, software\n",
              "// distributed under the License is distributed on an \"AS IS\" BASIS,\n",
              "// WITHOUT WARRANTIES OR CONDITIONS OF ANY KIND, either express or implied.\n",
              "// See the License for the specific language governing permissions and\n",
              "// limitations under the License.\n",
              "\n",
              "/**\n",
              " * @fileoverview Helpers for google.colab Python module.\n",
              " */\n",
              "(function(scope) {\n",
              "function span(text, styleAttributes = {}) {\n",
              "  const element = document.createElement('span');\n",
              "  element.textContent = text;\n",
              "  for (const key of Object.keys(styleAttributes)) {\n",
              "    element.style[key] = styleAttributes[key];\n",
              "  }\n",
              "  return element;\n",
              "}\n",
              "\n",
              "// Max number of bytes which will be uploaded at a time.\n",
              "const MAX_PAYLOAD_SIZE = 100 * 1024;\n",
              "\n",
              "function _uploadFiles(inputId, outputId) {\n",
              "  const steps = uploadFilesStep(inputId, outputId);\n",
              "  const outputElement = document.getElementById(outputId);\n",
              "  // Cache steps on the outputElement to make it available for the next call\n",
              "  // to uploadFilesContinue from Python.\n",
              "  outputElement.steps = steps;\n",
              "\n",
              "  return _uploadFilesContinue(outputId);\n",
              "}\n",
              "\n",
              "// This is roughly an async generator (not supported in the browser yet),\n",
              "// where there are multiple asynchronous steps and the Python side is going\n",
              "// to poll for completion of each step.\n",
              "// This uses a Promise to block the python side on completion of each step,\n",
              "// then passes the result of the previous step as the input to the next step.\n",
              "function _uploadFilesContinue(outputId) {\n",
              "  const outputElement = document.getElementById(outputId);\n",
              "  const steps = outputElement.steps;\n",
              "\n",
              "  const next = steps.next(outputElement.lastPromiseValue);\n",
              "  return Promise.resolve(next.value.promise).then((value) => {\n",
              "    // Cache the last promise value to make it available to the next\n",
              "    // step of the generator.\n",
              "    outputElement.lastPromiseValue = value;\n",
              "    return next.value.response;\n",
              "  });\n",
              "}\n",
              "\n",
              "/**\n",
              " * Generator function which is called between each async step of the upload\n",
              " * process.\n",
              " * @param {string} inputId Element ID of the input file picker element.\n",
              " * @param {string} outputId Element ID of the output display.\n",
              " * @return {!Iterable<!Object>} Iterable of next steps.\n",
              " */\n",
              "function* uploadFilesStep(inputId, outputId) {\n",
              "  const inputElement = document.getElementById(inputId);\n",
              "  inputElement.disabled = false;\n",
              "\n",
              "  const outputElement = document.getElementById(outputId);\n",
              "  outputElement.innerHTML = '';\n",
              "\n",
              "  const pickedPromise = new Promise((resolve) => {\n",
              "    inputElement.addEventListener('change', (e) => {\n",
              "      resolve(e.target.files);\n",
              "    });\n",
              "  });\n",
              "\n",
              "  const cancel = document.createElement('button');\n",
              "  inputElement.parentElement.appendChild(cancel);\n",
              "  cancel.textContent = 'Cancel upload';\n",
              "  const cancelPromise = new Promise((resolve) => {\n",
              "    cancel.onclick = () => {\n",
              "      resolve(null);\n",
              "    };\n",
              "  });\n",
              "\n",
              "  // Wait for the user to pick the files.\n",
              "  const files = yield {\n",
              "    promise: Promise.race([pickedPromise, cancelPromise]),\n",
              "    response: {\n",
              "      action: 'starting',\n",
              "    }\n",
              "  };\n",
              "\n",
              "  cancel.remove();\n",
              "\n",
              "  // Disable the input element since further picks are not allowed.\n",
              "  inputElement.disabled = true;\n",
              "\n",
              "  if (!files) {\n",
              "    return {\n",
              "      response: {\n",
              "        action: 'complete',\n",
              "      }\n",
              "    };\n",
              "  }\n",
              "\n",
              "  for (const file of files) {\n",
              "    const li = document.createElement('li');\n",
              "    li.append(span(file.name, {fontWeight: 'bold'}));\n",
              "    li.append(span(\n",
              "        `(${file.type || 'n/a'}) - ${file.size} bytes, ` +\n",
              "        `last modified: ${\n",
              "            file.lastModifiedDate ? file.lastModifiedDate.toLocaleDateString() :\n",
              "                                    'n/a'} - `));\n",
              "    const percent = span('0% done');\n",
              "    li.appendChild(percent);\n",
              "\n",
              "    outputElement.appendChild(li);\n",
              "\n",
              "    const fileDataPromise = new Promise((resolve) => {\n",
              "      const reader = new FileReader();\n",
              "      reader.onload = (e) => {\n",
              "        resolve(e.target.result);\n",
              "      };\n",
              "      reader.readAsArrayBuffer(file);\n",
              "    });\n",
              "    // Wait for the data to be ready.\n",
              "    let fileData = yield {\n",
              "      promise: fileDataPromise,\n",
              "      response: {\n",
              "        action: 'continue',\n",
              "      }\n",
              "    };\n",
              "\n",
              "    // Use a chunked sending to avoid message size limits. See b/62115660.\n",
              "    let position = 0;\n",
              "    do {\n",
              "      const length = Math.min(fileData.byteLength - position, MAX_PAYLOAD_SIZE);\n",
              "      const chunk = new Uint8Array(fileData, position, length);\n",
              "      position += length;\n",
              "\n",
              "      const base64 = btoa(String.fromCharCode.apply(null, chunk));\n",
              "      yield {\n",
              "        response: {\n",
              "          action: 'append',\n",
              "          file: file.name,\n",
              "          data: base64,\n",
              "        },\n",
              "      };\n",
              "\n",
              "      let percentDone = fileData.byteLength === 0 ?\n",
              "          100 :\n",
              "          Math.round((position / fileData.byteLength) * 100);\n",
              "      percent.textContent = `${percentDone}% done`;\n",
              "\n",
              "    } while (position < fileData.byteLength);\n",
              "  }\n",
              "\n",
              "  // All done.\n",
              "  yield {\n",
              "    response: {\n",
              "      action: 'complete',\n",
              "    }\n",
              "  };\n",
              "}\n",
              "\n",
              "scope.google = scope.google || {};\n",
              "scope.google.colab = scope.google.colab || {};\n",
              "scope.google.colab._files = {\n",
              "  _uploadFiles,\n",
              "  _uploadFilesContinue,\n",
              "};\n",
              "})(self);\n",
              "</script> "
            ]
          },
          "metadata": {}
        }
      ]
    },
    {
      "cell_type": "code",
      "source": [
        "file_name = list(uploaded.keys())[0]\n",
        "data = pd.read_csv(file_name)\n",
        "print(data.sample(5))"
      ],
      "metadata": {
        "id": "M28vK9QGilab"
      },
      "execution_count": null,
      "outputs": []
    },
    {
      "cell_type": "code",
      "source": [
        "data['clock'] = data['clock'].str.replace('PT', '').str.replace('M', ':').str.replace('S', '')\n",
        "def convert_time(time_str):\n",
        "    try:\n",
        "        return pd.to_datetime(time_str, format='%M:%S.%f').time()\n",
        "    except ValueError:\n",
        "        try:\n",
        "            return pd.to_datetime(time_str, format='%M:%S').time()\n",
        "        except ValueError:\n",
        "            return pd.to_datetime(time_str + ':00', format='%M:%S').time()\n",
        "data['clock'] = data['clock'].apply(convert_time)\n",
        "# individually sorting and converting clock times for standard data"
      ],
      "metadata": {
        "id": "MtNdxthzpsdW"
      },
      "execution_count": null,
      "outputs": []
    },
    {
      "cell_type": "code",
      "source": [
        "print(data[['clock']].head())"
      ],
      "metadata": {
        "id": "Sh1CVnB8tDNy"
      },
      "execution_count": null,
      "outputs": []
    },
    {
      "cell_type": "code",
      "source": [
        "def is_clutch(row):\n",
        "    return (row['period'] == 4) and (row['clock'] <= pd.to_datetime('05:00', format='%M:%S').time()) and (abs(row['h_pts'] - row['a_pts']) <= 5)\n",
        "print(data['clock'].apply(type).unique())  # theoretically this should return <class 'datetime.time'>\n",
        "data['IS_CLUTCH'] = data.apply(is_clutch, axis=1)\n",
        "#simple definition of \"clutch\", will be changed later"
      ],
      "metadata": {
        "id": "zF3ABChUnppL"
      },
      "execution_count": null,
      "outputs": []
    },
    {
      "cell_type": "code",
      "source": [
        "min_clutch_events = 10\n",
        "min_total_plays = 100\n",
        "\n",
        "clutch_data = data[data['IS_CLUTCH']].groupby(['playerid', 'player']).agg({\n",
        "    'gameid': 'count',\n",
        "    'play' : 'count'\n",
        "}).rename(columns={'gameid': 'clutch_events', 'play': 'clutch_plays'}).reset_index()\n",
        "non_clutch_data = data[~data['IS_CLUTCH']].groupby(['playerid', 'player']).agg({\n",
        "    'gameid': 'count',\n",
        "    'play' : 'count'\n",
        "}).rename(columns={'gameid': 'non_clutch_events', 'play': 'non_clutch_plays'}).reset_index()\n",
        "merged_data['total_plays'] = merged_data['clutch_plays'] + merged_data['non_clutch_plays']\n",
        "filtered_data = merged_data[(merged_data['clutch_events'] >= min_clutch_events) & (merged_data['total_plays'] >= min_total_plays)]\n",
        "filtered_data['clutch_ratio'] = filtered_data['clutch_events'] / (filtered_data['clutch_events'] + filtered_data['non_clutch_events'])\n",
        "# setting up difference and filtering for data cleanup"
      ],
      "metadata": {
        "id": "WVCiiOrgpBUR"
      },
      "execution_count": null,
      "outputs": []
    },
    {
      "cell_type": "code",
      "source": [
        "X = filtered_data[['clutch_events', 'clutch_ratio']]\n",
        "model = IsolationForest(contamination=0.05, random_state=42)\n",
        "model.fit(X)\n",
        "filtered_data['anomaly'] = model.predict(X)\n",
        "# testing very basic iso forest, this will be scrapped or changed completely lol"
      ],
      "metadata": {
        "id": "RtYPQfAOq8J_"
      },
      "execution_count": null,
      "outputs": []
    },
    {
      "cell_type": "code",
      "source": [
        "clutch_players = filtered_data[filtered_data['anomaly'] == -1]\n",
        "plt.figure(figsize=(14, 10))\n",
        "sns.set(style=\"whitegrid\")\n",
        "plt.scatter(filtered_data['clutch_events'], filtered_data['clutch_ratio'], alpha=0.3, s=80, label='Non-clutch', c='blue')\n",
        "plt.scatter(clutch_players['clutch_events'], clutch_players['clutch_ratio'], color='red', s=100, label='Clutch')\n",
        "\n",
        "for _, row in clutch_players.iterrows():\n",
        "    plt.annotate(row['player'],\n",
        "                 (row['clutch_events'], row['clutch_ratio']),\n",
        "                 textcoords=\"offset points\",\n",
        "                 xytext=(5,5),\n",
        "                 ha='center',\n",
        "                 fontsize=10,\n",
        "                 color='darkred',\n",
        "                 bbox=dict(facecolor='white', alpha=0.6, edgecolor='none', boxstyle='round,pad=0.3'))\n",
        "\n",
        "plt.title('NBA Player Clutch Performance Detection (2001)', fontsize=16)\n",
        "plt.xlabel('Number of Clutch Events', fontsize=14)\n",
        "plt.ylabel('Clutch Event Ratio', fontsize=14)\n",
        "\n",
        "plt.legend(title='Player Type', fontsize=12, title_fontsize='13', loc='upper right')"
      ],
      "metadata": {
        "id": "4aaX0qzuq96n"
      },
      "execution_count": null,
      "outputs": []
    }
  ]
}